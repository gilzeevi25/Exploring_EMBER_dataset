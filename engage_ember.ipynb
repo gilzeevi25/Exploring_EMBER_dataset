{
  "nbformat": 4,
  "nbformat_minor": 0,
  "metadata": {
    "colab": {
      "name": "engage_ember.ipynb",
      "provenance": [],
      "authorship_tag": "ABX9TyNKw7FZxHtqtOPJlljVvWpx",
      "include_colab_link": true
    },
    "kernelspec": {
      "name": "python3",
      "display_name": "Python 3"
    },
    "language_info": {
      "name": "python"
    }
  },
  "cells": [
    {
      "cell_type": "markdown",
      "metadata": {
        "id": "view-in-github",
        "colab_type": "text"
      },
      "source": [
        "<a href=\"https://colab.research.google.com/github/gilzeevi25/cyber_ai_hw1/blob/main/engage_ember.ipynb\" target=\"_parent\"><img src=\"https://colab.research.google.com/assets/colab-badge.svg\" alt=\"Open In Colab\"/></a>"
      ]
    },
    {
      "cell_type": "code",
      "execution_count": null,
      "metadata": {
        "id": "jY0jGFyjaJ7a"
      },
      "outputs": [],
      "source": [
        "import pandas as pd\n",
        "import numpy as np"
      ]
    },
    {
      "cell_type": "code",
      "source": [
        "from google.colab import drive\n",
        "drive.mount('/content/drive')"
      ],
      "metadata": {
        "colab": {
          "base_uri": "https://localhost:8080/"
        },
        "id": "Ui04_ZfGbAUp",
        "outputId": "65fd2bb5-5030-4e77-dbe2-07913caf0dae"
      },
      "execution_count": 1,
      "outputs": [
        {
          "output_type": "stream",
          "name": "stdout",
          "text": [
            "Mounted at /content/drive\n"
          ]
        }
      ]
    },
    {
      "cell_type": "code",
      "source": [
        "cd /content/drive/MyDrive/ember"
      ],
      "metadata": {
        "colab": {
          "base_uri": "https://localhost:8080/"
        },
        "id": "qwV6bJ5cbb1m",
        "outputId": "0462653b-f3d7-4920-a24e-4b63ec67937a"
      },
      "execution_count": 4,
      "outputs": [
        {
          "output_type": "stream",
          "name": "stdout",
          "text": [
            "/content/drive/MyDrive/ember\n"
          ]
        }
      ]
    },
    {
      "cell_type": "code",
      "source": [
        "!wget https://ember.elastic.co/ember_dataset_2018_2.tar.bz2 --no-check-certificate"
      ],
      "metadata": {
        "colab": {
          "base_uri": "https://localhost:8080/"
        },
        "id": "bTYwky3gbfK1",
        "outputId": "b9606f4f-e683-4a6b-8395-d04f44281738"
      },
      "execution_count": 5,
      "outputs": [
        {
          "output_type": "stream",
          "name": "stdout",
          "text": [
            "--2022-03-16 06:34:44--  https://ember.elastic.co/ember_dataset_2018_2.tar.bz2\n",
            "Resolving ember.elastic.co (ember.elastic.co)... 34.107.161.234, 2600:1901:0:1f6d::\n",
            "Connecting to ember.elastic.co (ember.elastic.co)|34.107.161.234|:443... connected.\n",
            "HTTP request sent, awaiting response... 200 OK\n",
            "Length: 1696539273 (1.6G) [application/x-bzip2]\n",
            "Saving to: ‘ember_dataset_2018_2.tar.bz2’\n",
            "\n",
            "ember_dataset_2018_ 100%[===================>]   1.58G  46.3MB/s    in 36s     \n",
            "\n",
            "2022-03-16 06:35:20 (44.4 MB/s) - ‘ember_dataset_2018_2.tar.bz2’ saved [1696539273/1696539273]\n",
            "\n"
          ]
        }
      ]
    },
    {
      "cell_type": "code",
      "source": [
        "# Decompressing a .bz2 file\n",
        "!bzip2 -d ember_dataset_2018_2.tar.bz2"
      ],
      "metadata": {
        "id": "hurljoKVb5di"
      },
      "execution_count": null,
      "outputs": []
    },
    {
      "cell_type": "code",
      "source": [
        "# Extracting from tar file\n",
        "!tar -xvf ember_dataset_2018_2.tar"
      ],
      "metadata": {
        "id": "AZ6vFDPbcBti"
      },
      "execution_count": null,
      "outputs": []
    },
    {
      "cell_type": "code",
      "source": [
        "!git clone https://github.com/endgameinc/ember "
      ],
      "metadata": {
        "id": "YYWQVqCNcGZh"
      },
      "execution_count": null,
      "outputs": []
    },
    {
      "cell_type": "code",
      "source": [
        "!mv ember ember-master"
      ],
      "metadata": {
        "id": "OK-UcxqscKSQ"
      },
      "execution_count": null,
      "outputs": []
    },
    {
      "cell_type": "code",
      "source": [
        "!cp -r ember-master/* ."
      ],
      "metadata": {
        "id": "9Vk6pzu_cTGA"
      },
      "execution_count": null,
      "outputs": []
    },
    {
      "cell_type": "code",
      "source": [
        "!pip install -r requirements.txt\n",
        "!python setup.py install"
      ],
      "metadata": {
        "id": "7mXIey5DcU6S"
      },
      "execution_count": null,
      "outputs": []
    },
    {
      "cell_type": "code",
      "source": [
        "import ember\n",
        "ember.create_vectorized_features(\"/home/ec2-user/SageMaker/MalwareClassification/ember_2017_2/\")\n",
        "ember.create_metadata(\"/home/ec2-user/SageMaker/MalwareClassification/ember_2017_2/\")"
      ],
      "metadata": {
        "id": "yhTpZ1N5cWQS"
      },
      "execution_count": null,
      "outputs": []
    },
    {
      "cell_type": "code",
      "source": [
        ""
      ],
      "metadata": {
        "id": "sfFCGT5dcbAg"
      },
      "execution_count": null,
      "outputs": []
    }
  ]
}